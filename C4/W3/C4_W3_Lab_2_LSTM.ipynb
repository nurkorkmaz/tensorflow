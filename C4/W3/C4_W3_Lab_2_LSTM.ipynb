{
  "cells": [
    {
      "cell_type": "markdown",
      "metadata": {
        "id": "bYfJ7D14iKu5"
      },
      "source": [
        "<a href=\"https://colab.research.google.com/github/https-deeplearning-ai/tensorflow-1-public/blob/main/C4/W3/ungraded_labs/C4_W3_Lab_2_LSTM.ipynb\" target=\"_parent\"><img src=\"https://colab.research.google.com/assets/colab-badge.svg\" alt=\"Open In Colab\"/></a>"
      ]
    },
    {
      "cell_type": "markdown",
      "metadata": {
        "id": "sV_nvXSQGJPK"
      },
      "source": [
        "# Ungraded Lab: Using a multi-layer LSTM for forecasting\n",
        "\n",
        "In this lab, you will use the same RNN architecure in the first lab but will instead stack [LSTM](https://www.tensorflow.org/api_docs/python/tf/keras/layers/LSTM) layers instead of `SimpleRNN`."
      ]
    },
    {
      "cell_type": "markdown",
      "metadata": {
        "id": "3IMbAWETGOWD"
      },
      "source": [
        "## Imports"
      ]
    },
    {
      "cell_type": "code",
      "execution_count": 1,
      "metadata": {
        "id": "BOjujz601HcS"
      },
      "outputs": [],
      "source": [
        "import tensorflow as tf\n",
        "import numpy as np\n",
        "import matplotlib.pyplot as plt"
      ]
    },
    {
      "cell_type": "markdown",
      "metadata": {
        "id": "kD7RQQ0xGQVH"
      },
      "source": [
        "## Utilities"
      ]
    },
    {
      "cell_type": "code",
      "execution_count": 2,
      "metadata": {
        "id": "Zswl7jRtGzkk"
      },
      "outputs": [],
      "source": [
        "def plot_series(time, series, format=\"-\", start=0, end=None):\n",
        "    \"\"\"\n",
        "    Visualizes time series data\n",
        "\n",
        "    Args:\n",
        "      time (array of int) - contains the time steps\n",
        "      series (array of int) - contains the measurements for each time step\n",
        "      format - line style when plotting the graph\n",
        "      start - first time step to plot\n",
        "      end - last time step to plot\n",
        "    \"\"\"\n",
        "\n",
        "    # Setup dimensions of the graph figure\n",
        "    plt.figure(figsize=(10, 6))\n",
        "    \n",
        "    if type(series) is tuple:\n",
        "\n",
        "      for series_num in series:\n",
        "        # Plot the time series data\n",
        "        plt.plot(time[start:end], series_num[start:end], format)\n",
        "\n",
        "    else:\n",
        "      # Plot the time series data\n",
        "      plt.plot(time[start:end], series[start:end], format)\n",
        "\n",
        "    # Label the x-axis\n",
        "    plt.xlabel(\"Time\")\n",
        "\n",
        "    # Label the y-axis\n",
        "    plt.ylabel(\"Value\")\n",
        "\n",
        "    # Overlay a grid on the graph\n",
        "    plt.grid(True)\n",
        "\n",
        "    # Draw the graph on screen\n",
        "    plt.show()\n",
        "\n",
        "def trend(time, slope=0):\n",
        "    \"\"\"\n",
        "    Generates synthetic data that follows a straight line given a slope value.\n",
        "\n",
        "    Args:\n",
        "      time (array of int) - contains the time steps\n",
        "      slope (float) - determines the direction and steepness of the line\n",
        "\n",
        "    Returns:\n",
        "      series (array of float) - measurements that follow a straight line\n",
        "    \"\"\"\n",
        "\n",
        "    # Compute the linear series given the slope\n",
        "    series = slope * time\n",
        "\n",
        "    return series\n",
        "\n",
        "def seasonal_pattern(season_time):\n",
        "    \"\"\"\n",
        "    Just an arbitrary pattern, you can change it if you wish\n",
        "    \n",
        "    Args:\n",
        "      season_time (array of float) - contains the measurements per time step\n",
        "\n",
        "    Returns:\n",
        "      data_pattern (array of float) -  contains revised measurement values according \n",
        "                                  to the defined pattern\n",
        "    \"\"\"\n",
        "\n",
        "    # Generate the values using an arbitrary pattern\n",
        "    data_pattern = np.where(season_time < 0.4,\n",
        "                    np.cos(season_time * 2 * np.pi),\n",
        "                    1 / np.exp(3 * season_time))\n",
        "    \n",
        "    return data_pattern\n",
        "\n",
        "def seasonality(time, period, amplitude=1, phase=0):\n",
        "    \"\"\"\n",
        "    Repeats the same pattern at each period\n",
        "\n",
        "    Args:\n",
        "      time (array of int) - contains the time steps\n",
        "      period (int) - number of time steps before the pattern repeats\n",
        "      amplitude (int) - peak measured value in a period\n",
        "      phase (int) - number of time steps to shift the measured values\n",
        "\n",
        "    Returns:\n",
        "      data_pattern (array of float) - seasonal data scaled by the defined amplitude\n",
        "    \"\"\"\n",
        "    \n",
        "    # Define the measured values per period\n",
        "    season_time = ((time + phase) % period) / period\n",
        "\n",
        "    # Generates the seasonal data scaled by the defined amplitude\n",
        "    data_pattern = amplitude * seasonal_pattern(season_time)\n",
        "\n",
        "    return data_pattern\n",
        "\n",
        "def noise(time, noise_level=1, seed=None):\n",
        "    \"\"\"Generates a normally distributed noisy signal\n",
        "\n",
        "    Args:\n",
        "      time (array of int) - contains the time steps\n",
        "      noise_level (float) - scaling factor for the generated signal\n",
        "      seed (int) - number generator seed for repeatability\n",
        "\n",
        "    Returns:\n",
        "      noise (array of float) - the noisy signal\n",
        "    \"\"\"\n",
        "\n",
        "    # Initialize the random number generator\n",
        "    rnd = np.random.RandomState(seed)\n",
        "\n",
        "    # Generate a random number for each time step and scale by the noise level\n",
        "    noise = rnd.randn(len(time)) * noise_level\n",
        "    \n",
        "    return noise"
      ]
    },
    {
      "cell_type": "markdown",
      "metadata": {
        "id": "yxNyeFWjGSdj"
      },
      "source": [
        "## Generate the Synthetic Data"
      ]
    },
    {
      "cell_type": "code",
      "execution_count": 3,
      "metadata": {
        "id": "KYEUfDbdpHPm",
        "colab": {
          "base_uri": "https://localhost:8080/",
          "height": 388
        },
        "outputId": "b67f11ac-6131-4bb2-af52-96ff3e5319a6"
      },
      "outputs": [
        {
          "output_type": "display_data",
          "data": {
            "text/plain": [
              "<Figure size 720x432 with 1 Axes>"
            ],
            "image/png": "[encoded data removed]"
          },
          "metadata": {
            "needs_background": "light"
          }
        }
      ],
      "source": [
        "# Parameters\n",
        "time = np.arange(4 * 365 + 1, dtype=\"float32\")\n",
        "baseline = 10\n",
        "amplitude = 40\n",
        "slope = 0.05\n",
        "noise_level = 5\n",
        "\n",
        "# Create the series\n",
        "series = baseline + trend(time, slope) + seasonality(time, period=365, amplitude=amplitude)\n",
        "\n",
        "# Update with noise\n",
        "series += noise(time, noise_level, seed=42)\n",
        "\n",
        "# Plot the results\n",
        "plot_series(time, series)"
      ]
    },
    {
      "cell_type": "markdown",
      "metadata": {
        "id": "MYKCvv-eGWRc"
      },
      "source": [
        "## Split the Dataset"
      ]
    },
    {
      "cell_type": "code",
      "execution_count": 4,
      "metadata": {
        "id": "hpp0slenpKVD"
      },
      "outputs": [],
      "source": [
        "# Define the split time\n",
        "split_time = 1000\n",
        "\n",
        "# Get the train set \n",
        "time_train = time[:split_time]\n",
        "x_train = series[:split_time]\n",
        "\n",
        "# Get the validation set\n",
        "time_valid = time[split_time:]\n",
        "x_valid = series[split_time:]"
      ]
    },
    {
      "cell_type": "markdown",
      "metadata": {
        "id": "cktHz9aOGYtV"
      },
      "source": [
        "## Prepare Features and Labels"
      ]
    },
    {
      "cell_type": "code",
      "execution_count": 5,
      "metadata": {
        "id": "G_j_2_Mqwn7-"
      },
      "outputs": [],
      "source": [
        "# Parameters\n",
        "window_size = 20\n",
        "batch_size = 32\n",
        "shuffle_buffer_size = 1000"
      ]
    },
    {
      "cell_type": "code",
      "execution_count": 6,
      "metadata": {
        "id": "4sTTIOCbyShY"
      },
      "outputs": [],
      "source": [
        "def windowed_dataset(series, window_size, batch_size, shuffle_buffer):\n",
        "    \"\"\"Generates dataset windows\n",
        "\n",
        "    Args:\n",
        "      series (array of float) - contains the values of the time series\n",
        "      window_size (int) - the number of time steps to include in the feature\n",
        "      batch_size (int) - the batch size\n",
        "      shuffle_buffer(int) - buffer size to use for the shuffle method\n",
        "\n",
        "    Returns:\n",
        "      dataset (TF Dataset) - TF Dataset containing time windows\n",
        "    \"\"\"\n",
        "  \n",
        "    # Generate a TF Dataset from the series values\n",
        "    dataset = tf.data.Dataset.from_tensor_slices(series)\n",
        "    \n",
        "    # Window the data but only take those with the specified size\n",
        "    dataset = dataset.window(window_size + 1, shift=1, drop_remainder=True)\n",
        "    \n",
        "    # Flatten the windows by putting its elements in a single batch\n",
        "    dataset = dataset.flat_map(lambda window: window.batch(window_size + 1))\n",
        "\n",
        "    # Create tuples with features and labels \n",
        "    dataset = dataset.map(lambda window: (window[:-1], window[-1]))\n",
        "\n",
        "    # Shuffle the windows\n",
        "    dataset = dataset.shuffle(shuffle_buffer)\n",
        "    \n",
        "    # Create batches of windows\n",
        "    dataset = dataset.batch(batch_size).prefetch(1)\n",
        "    \n",
        "    return dataset"
      ]
    },
    {
      "cell_type": "code",
      "execution_count": 7,
      "metadata": {
        "id": "vGj5-InSwtQQ"
      },
      "outputs": [],
      "source": [
        "# Generate the dataset windows\n",
        "dataset = windowed_dataset(x_train, window_size, batch_size, shuffle_buffer_size)"
      ]
    },
    {
      "cell_type": "markdown",
      "metadata": {
        "id": "p9-Ke8ZaGcjd"
      },
      "source": [
        "## Build the Model\n",
        "\n",
        "As mentioned, you will swap `SimpleRNN` for `LSTM` in this lab. It is also set as bidirectional below but feel free to revise later and see what results you get. LSTMs are much more complex in their internal architecture than simpleRNNs. It implements a cell state that allows it to remember sequences better than simple implementations. This added complexity results in a bigger set of parameters to train and you'll see that when you print the model summary below."
      ]
    },
    {
      "cell_type": "code",
      "execution_count": 8,
      "metadata": {
        "id": "A1Hl39rklkLm",
        "colab": {
          "base_uri": "https://localhost:8080/"
        },
        "outputId": "3e4c966c-b05f-46f1-9de5-46f277585dd6"
      },
      "outputs": [
        {
          "output_type": "stream",
          "name": "stdout",
          "text": [
            "Model: \"sequential\"\n",
            "_________________________________________________________________\n",
            " Layer (type)                Output Shape              Param #   \n",
            "=================================================================\n",
            " lambda (Lambda)             (None, 20, 1)             0         \n",
            "                                                                 \n",
            " bidirectional (Bidirectiona  (None, 20, 64)           8704      \n",
            " l)                                                              \n",
            "                                                                 \n",
            " bidirectional_1 (Bidirectio  (None, 64)               24832     \n",
            " nal)                                                            \n",
            "                                                                 \n",
            " dense (Dense)               (None, 1)                 65        \n",
            "                                                                 \n",
            " lambda_1 (Lambda)           (None, 1)                 0         \n",
            "                                                                 \n",
            "=================================================================\n",
            "Total params: 33,601\n",
            "Trainable params: 33,601\n",
            "Non-trainable params: 0\n",
            "_________________________________________________________________\n"
          ]
        }
      ],
      "source": [
        "# Build the Model\n",
        "model_tune = tf.keras.models.Sequential([\n",
        "  tf.keras.layers.Lambda(lambda x: tf.expand_dims(x, axis=-1),\n",
        "                      input_shape=[window_size]),\n",
        "    tf.keras.layers.Bidirectional(tf.keras.layers.LSTM(32, return_sequences=True)),\n",
        "  tf.keras.layers.Bidirectional(tf.keras.layers.LSTM(32)),\n",
        "  tf.keras.layers.Dense(1),\n",
        "  tf.keras.layers.Lambda(lambda x: x * 100.0)\n",
        "])\n",
        "\n",
        "# Print the model summary\n",
        "model_tune.summary()"
      ]
    },
    {
      "cell_type": "markdown",
      "metadata": {
        "id": "FHaFblbwq0GV"
      },
      "source": [
        "## Tune the Learning Rate\n",
        "\n",
        "As usual, you will pick a learning rate by running the tuning code below."
      ]
    },
    {
      "cell_type": "code",
      "execution_count": 9,
      "metadata": {
        "id": "qE7al18qw48G",
        "colab": {
          "base_uri": "https://localhost:8080/"
        },
        "outputId": "4b43e4b3-9d65-438f-e2ea-20393db7d000"
      },
      "outputs": [
        {
          "output_type": "stream",
          "name": "stdout",
          "text": [
            "Epoch 1/100\n",
            "31/31 [==============================] - 16s 20ms/step - loss: 25.6899 - lr: 1.0000e-08\n",
            "Epoch 2/100\n",
            "31/31 [==============================] - 0s 9ms/step - loss: 24.6911 - lr: 1.1220e-08\n",
            "Epoch 3/100\n",
            "31/31 [==============================] - 0s 9ms/step - loss: 23.5153 - lr: 1.2589e-08\n",
            "Epoch 4/100\n",
            "31/31 [==============================] - 0s 9ms/step - loss: 22.2186 - lr: 1.4125e-08\n",
            "Epoch 5/100\n",
            "31/31 [==============================] - 0s 10ms/step - loss: 20.8310 - lr: 1.5849e-08\n",
            "Epoch 6/100\n",
            "31/31 [==============================] - 0s 9ms/step - loss: 19.3733 - lr: 1.7783e-08\n",
            "Epoch 7/100\n",
            "31/31 [==============================] - 0s 10ms/step - loss: 17.8075 - lr: 1.9953e-08\n",
            "Epoch 8/100\n",
            "31/31 [==============================] - 1s 12ms/step - loss: 16.2127 - lr: 2.2387e-08\n",
            "Epoch 9/100\n",
            "31/31 [==============================] - 1s 14ms/step - loss: 14.6942 - lr: 2.5119e-08\n",
            "Epoch 10/100\n",
            "31/31 [==============================] - 0s 10ms/step - loss: 13.3717 - lr: 2.8184e-08\n",
            "Epoch 11/100\n",
            "31/31 [==============================] - 0s 9ms/step - loss: 12.4119 - lr: 3.1623e-08\n",
            "Epoch 12/100\n",
            "31/31 [==============================] - 0s 10ms/step - loss: 11.7787 - lr: 3.5481e-08\n",
            "Epoch 13/100\n",
            "31/31 [==============================] - 0s 9ms/step - loss: 11.3782 - lr: 3.9811e-08\n",
            "Epoch 14/100\n",
            "31/31 [==============================] - 0s 9ms/step - loss: 11.0981 - lr: 4.4668e-08\n",
            "Epoch 15/100\n",
            "31/31 [==============================] - 0s 11ms/step - loss: 10.8892 - lr: 5.0119e-08\n",
            "Epoch 16/100\n",
            "31/31 [==============================] - 0s 9ms/step - loss: 10.7073 - lr: 5.6234e-08\n",
            "Epoch 17/100\n",
            "31/31 [==============================] - 0s 9ms/step - loss: 10.5311 - lr: 6.3096e-08\n",
            "Epoch 18/100\n",
            "31/31 [==============================] - 0s 9ms/step - loss: 10.3447 - lr: 7.0795e-08\n",
            "Epoch 19/100\n",
            "31/31 [==============================] - 0s 10ms/step - loss: 10.1418 - lr: 7.9433e-08\n",
            "Epoch 20/100\n",
            "31/31 [==============================] - 0s 10ms/step - loss: 9.9192 - lr: 8.9125e-08\n",
            "Epoch 21/100\n",
            "31/31 [==============================] - 0s 10ms/step - loss: 9.6783 - lr: 1.0000e-07\n",
            "Epoch 22/100\n",
            "31/31 [==============================] - 0s 9ms/step - loss: 9.4151 - lr: 1.1220e-07\n",
            "Epoch 23/100\n",
            "31/31 [==============================] - 0s 9ms/step - loss: 9.1349 - lr: 1.2589e-07\n",
            "Epoch 24/100\n",
            "31/31 [==============================] - 0s 10ms/step - loss: 8.8251 - lr: 1.4125e-07\n",
            "Epoch 25/100\n",
            "31/31 [==============================] - 0s 10ms/step - loss: 8.4884 - lr: 1.5849e-07\n",
            "Epoch 26/100\n",
            "31/31 [==============================] - 0s 9ms/step - loss: 8.1367 - lr: 1.7783e-07\n",
            "Epoch 27/100\n",
            "31/31 [==============================] - 0s 9ms/step - loss: 7.7798 - lr: 1.9953e-07\n",
            "Epoch 28/100\n",
            "31/31 [==============================] - 0s 10ms/step - loss: 7.4337 - lr: 2.2387e-07\n",
            "Epoch 29/100\n",
            "31/31 [==============================] - 0s 10ms/step - loss: 7.1011 - lr: 2.5119e-07\n",
            "Epoch 30/100\n",
            "31/31 [==============================] - 0s 10ms/step - loss: 6.7930 - lr: 2.8184e-07\n",
            "Epoch 31/100\n",
            "31/31 [==============================] - 0s 10ms/step - loss: 6.5413 - lr: 3.1623e-07\n",
            "Epoch 32/100\n",
            "31/31 [==============================] - 0s 10ms/step - loss: 6.3402 - lr: 3.5481e-07\n",
            "Epoch 33/100\n",
            "31/31 [==============================] - 0s 9ms/step - loss: 6.1625 - lr: 3.9811e-07\n",
            "Epoch 34/100\n",
            "31/31 [==============================] - 0s 10ms/step - loss: 6.0342 - lr: 4.4668e-07\n",
            "Epoch 35/100\n",
            "31/31 [==============================] - 0s 9ms/step - loss: 5.9189 - lr: 5.0119e-07\n",
            "Epoch 36/100\n",
            "31/31 [==============================] - 0s 10ms/step - loss: 5.8177 - lr: 5.6234e-07\n",
            "Epoch 37/100\n",
            "31/31 [==============================] - 0s 9ms/step - loss: 5.7561 - lr: 6.3096e-07\n",
            "Epoch 38/100\n",
            "31/31 [==============================] - 0s 10ms/step - loss: 5.6715 - lr: 7.0795e-07\n",
            "Epoch 39/100\n",
            "31/31 [==============================] - 0s 9ms/step - loss: 5.5890 - lr: 7.9433e-07\n",
            "Epoch 40/100\n",
            "31/31 [==============================] - 0s 9ms/step - loss: 5.5042 - lr: 8.9125e-07\n",
            "Epoch 41/100\n",
            "31/31 [==============================] - 0s 10ms/step - loss: 5.4548 - lr: 1.0000e-06\n",
            "Epoch 42/100\n",
            "31/31 [==============================] - 0s 10ms/step - loss: 5.4155 - lr: 1.1220e-06\n",
            "Epoch 43/100\n",
            "31/31 [==============================] - 0s 10ms/step - loss: 5.3634 - lr: 1.2589e-06\n",
            "Epoch 44/100\n",
            "31/31 [==============================] - 0s 10ms/step - loss: 5.3301 - lr: 1.4125e-06\n",
            "Epoch 45/100\n",
            "31/31 [==============================] - 0s 9ms/step - loss: 5.2195 - lr: 1.5849e-06\n",
            "Epoch 46/100\n",
            "31/31 [==============================] - 0s 10ms/step - loss: 5.1651 - lr: 1.7783e-06\n",
            "Epoch 47/100\n",
            "31/31 [==============================] - 0s 10ms/step - loss: 5.1832 - lr: 1.9953e-06\n",
            "Epoch 48/100\n",
            "31/31 [==============================] - 0s 11ms/step - loss: 5.0319 - lr: 2.2387e-06\n",
            "Epoch 49/100\n",
            "31/31 [==============================] - 0s 10ms/step - loss: 4.9906 - lr: 2.5119e-06\n",
            "Epoch 50/100\n",
            "31/31 [==============================] - 0s 10ms/step - loss: 4.9039 - lr: 2.8184e-06\n",
            "Epoch 51/100\n",
            "31/31 [==============================] - 0s 10ms/step - loss: 4.8720 - lr: 3.1623e-06\n",
            "Epoch 52/100\n",
            "31/31 [==============================] - 0s 10ms/step - loss: 4.7600 - lr: 3.5481e-06\n",
            "Epoch 53/100\n",
            "31/31 [==============================] - 0s 11ms/step - loss: 5.0164 - lr: 3.9811e-06\n",
            "Epoch 54/100\n",
            "31/31 [==============================] - 0s 9ms/step - loss: 4.8051 - lr: 4.4668e-06\n",
            "Epoch 55/100\n",
            "31/31 [==============================] - 0s 10ms/step - loss: 4.6540 - lr: 5.0119e-06\n",
            "Epoch 56/100\n",
            "31/31 [==============================] - 0s 10ms/step - loss: 4.6299 - lr: 5.6234e-06\n",
            "Epoch 57/100\n",
            "31/31 [==============================] - 0s 9ms/step - loss: 4.6036 - lr: 6.3096e-06\n",
            "Epoch 58/100\n",
            "31/31 [==============================] - 0s 10ms/step - loss: 4.6438 - lr: 7.0795e-06\n",
            "Epoch 59/100\n",
            "31/31 [==============================] - 0s 9ms/step - loss: 4.8680 - lr: 7.9433e-06\n",
            "Epoch 60/100\n",
            "31/31 [==============================] - 0s 10ms/step - loss: 4.8248 - lr: 8.9125e-06\n",
            "Epoch 61/100\n",
            "31/31 [==============================] - 0s 9ms/step - loss: 4.8262 - lr: 1.0000e-05\n",
            "Epoch 62/100\n",
            "31/31 [==============================] - 0s 10ms/step - loss: 4.9924 - lr: 1.1220e-05\n",
            "Epoch 63/100\n",
            "31/31 [==============================] - 0s 10ms/step - loss: 4.7689 - lr: 1.2589e-05\n",
            "Epoch 64/100\n",
            "31/31 [==============================] - 0s 9ms/step - loss: 4.7747 - lr: 1.4125e-05\n",
            "Epoch 65/100\n",
            "31/31 [==============================] - 0s 9ms/step - loss: 4.8571 - lr: 1.5849e-05\n",
            "Epoch 66/100\n",
            "31/31 [==============================] - 0s 9ms/step - loss: 5.0986 - lr: 1.7783e-05\n",
            "Epoch 67/100\n",
            "31/31 [==============================] - 0s 11ms/step - loss: 4.7860 - lr: 1.9953e-05\n",
            "Epoch 68/100\n",
            "31/31 [==============================] - 0s 9ms/step - loss: 4.9529 - lr: 2.2387e-05\n",
            "Epoch 69/100\n",
            "31/31 [==============================] - 0s 9ms/step - loss: 4.7781 - lr: 2.5119e-05\n",
            "Epoch 70/100\n",
            "31/31 [==============================] - 0s 10ms/step - loss: 5.0104 - lr: 2.8184e-05\n",
            "Epoch 71/100\n",
            "31/31 [==============================] - 0s 10ms/step - loss: 4.7987 - lr: 3.1623e-05\n",
            "Epoch 72/100\n",
            "31/31 [==============================] - 0s 10ms/step - loss: 4.9104 - lr: 3.5481e-05\n",
            "Epoch 73/100\n",
            "31/31 [==============================] - 0s 9ms/step - loss: 6.0707 - lr: 3.9811e-05\n",
            "Epoch 74/100\n",
            "31/31 [==============================] - 0s 10ms/step - loss: 5.6125 - lr: 4.4668e-05\n",
            "Epoch 75/100\n",
            "31/31 [==============================] - 0s 10ms/step - loss: 5.8453 - lr: 5.0119e-05\n",
            "Epoch 76/100\n",
            "31/31 [==============================] - 0s 10ms/step - loss: 6.9647 - lr: 5.6234e-05\n",
            "Epoch 77/100\n",
            "31/31 [==============================] - 0s 10ms/step - loss: 5.9290 - lr: 6.3096e-05\n",
            "Epoch 78/100\n",
            "31/31 [==============================] - 0s 10ms/step - loss: 5.8456 - lr: 7.0795e-05\n",
            "Epoch 79/100\n",
            "31/31 [==============================] - 0s 10ms/step - loss: 5.3536 - lr: 7.9433e-05\n",
            "Epoch 80/100\n",
            "31/31 [==============================] - 0s 10ms/step - loss: 7.6092 - lr: 8.9125e-05\n",
            "Epoch 81/100\n",
            "31/31 [==============================] - 0s 9ms/step - loss: 6.3403 - lr: 1.0000e-04\n",
            "Epoch 82/100\n",
            "31/31 [==============================] - 0s 10ms/step - loss: 5.9862 - lr: 1.1220e-04\n",
            "Epoch 83/100\n",
            "31/31 [==============================] - 0s 9ms/step - loss: 8.0326 - lr: 1.2589e-04\n",
            "Epoch 84/100\n",
            "31/31 [==============================] - 0s 10ms/step - loss: 6.7577 - lr: 1.4125e-04\n",
            "Epoch 85/100\n",
            "31/31 [==============================] - 0s 10ms/step - loss: 5.8247 - lr: 1.5849e-04\n",
            "Epoch 86/100\n",
            "31/31 [==============================] - 0s 11ms/step - loss: 7.8033 - lr: 1.7783e-04\n",
            "Epoch 87/100\n",
            "31/31 [==============================] - 0s 10ms/step - loss: 10.6822 - lr: 1.9953e-04\n",
            "Epoch 88/100\n",
            "31/31 [==============================] - 0s 9ms/step - loss: 6.5607 - lr: 2.2387e-04\n",
            "Epoch 89/100\n",
            "31/31 [==============================] - 0s 10ms/step - loss: 6.6194 - lr: 2.5119e-04\n",
            "Epoch 90/100\n",
            "31/31 [==============================] - 0s 9ms/step - loss: 7.8163 - lr: 2.8184e-04\n",
            "Epoch 91/100\n",
            "31/31 [==============================] - 0s 10ms/step - loss: 8.3866 - lr: 3.1623e-04\n",
            "Epoch 92/100\n",
            "31/31 [==============================] - 0s 10ms/step - loss: 12.3089 - lr: 3.5481e-04\n",
            "Epoch 93/100\n",
            "31/31 [==============================] - 0s 10ms/step - loss: 6.3796 - lr: 3.9811e-04\n",
            "Epoch 94/100\n",
            "31/31 [==============================] - 0s 9ms/step - loss: 9.4847 - lr: 4.4668e-04\n",
            "Epoch 95/100\n",
            "31/31 [==============================] - 0s 10ms/step - loss: 6.9146 - lr: 5.0119e-04\n",
            "Epoch 96/100\n",
            "31/31 [==============================] - 0s 10ms/step - loss: 6.1032 - lr: 5.6234e-04\n",
            "Epoch 97/100\n",
            "31/31 [==============================] - 0s 9ms/step - loss: 7.5593 - lr: 6.3096e-04\n",
            "Epoch 98/100\n",
            "31/31 [==============================] - 0s 9ms/step - loss: 12.1752 - lr: 7.0795e-04\n",
            "Epoch 99/100\n",
            "31/31 [==============================] - 0s 9ms/step - loss: 13.4212 - lr: 7.9433e-04\n",
            "Epoch 100/100\n",
            "31/31 [==============================] - 0s 10ms/step - loss: 12.0141 - lr: 8.9125e-04\n"
          ]
        }
      ],
      "source": [
        "# Set the learning rate scheduler\n",
        "lr_schedule = tf.keras.callbacks.LearningRateScheduler(\n",
        "    lambda epoch: 1e-8 * 10**(epoch / 20))\n",
        "\n",
        "# Initialize the optimizer\n",
        "optimizer = tf.keras.optimizers.SGD(momentum=0.9)\n",
        "\n",
        "# Set the training parameters\n",
        "model_tune.compile(loss=tf.keras.losses.Huber(), optimizer=optimizer)\n",
        "\n",
        "# Train the model\n",
        "history = model_tune.fit(dataset, epochs=100, callbacks=[lr_schedule])"
      ]
    },
    {
      "cell_type": "code",
      "execution_count": 10,
      "metadata": {
        "id": "AkBsrsXMzoWR",
        "colab": {
          "base_uri": "https://localhost:8080/",
          "height": 405
        },
        "outputId": "7177350b-39fc-4b28-a8be-f08145d5e52e"
      },
      "outputs": [
        {
          "output_type": "execute_result",
          "data": {
            "text/plain": [
              "(1e-08, 0.001, 0.0, 30.0)"
            ]
          },
          "metadata": {},
          "execution_count": 10
        },
        {
          "output_type": "display_data",
          "data": {
            "text/plain": [
              "<Figure size 720x432 with 1 Axes>"
            ],
            "image/png": "[encoded data removed]"
          },
          "metadata": {
            "needs_background": "light"
          }
        }
      ],
      "source": [
        "# Define the learning rate array\n",
        "lrs = 1e-8 * (10 ** (np.arange(100) / 20))\n",
        "\n",
        "# Set the figure size\n",
        "plt.figure(figsize=(10, 6))\n",
        "\n",
        "# Set the grid\n",
        "plt.grid(True)\n",
        "\n",
        "# Plot the loss in log scale\n",
        "plt.semilogx(lrs, history.history[\"loss\"])\n",
        "\n",
        "# Increase the tickmarks size\n",
        "plt.tick_params('both', length=10, width=1, which='both')\n",
        "\n",
        "# Set the plot boundaries\n",
        "plt.axis([1e-8, 1e-3, 0, 30])"
      ]
    },
    {
      "cell_type": "markdown",
      "metadata": {
        "id": "i-lKNp4pq_w8"
      },
      "source": [
        "## Train the Model\n",
        "\n",
        "You can then proceed to train the model with your chosen learning rate. \n",
        "\n",
        "*Tip: When experimenting and you find yourself running different iterations of a model, you may want to use the [`clear_session()`](https://www.tensorflow.org/api_docs/python/tf/keras/backend/clear_session) method to declutter memory used by Keras. This is added in the first line below.*\n"
      ]
    },
    {
      "cell_type": "code",
      "execution_count": 11,
      "metadata": {
        "id": "4uh-97bpLZCA",
        "colab": {
          "base_uri": "https://localhost:8080/"
        },
        "outputId": "b78235a1-3015-4a06-9fd0-bf8dc52b08e6"
      },
      "outputs": [
        {
          "output_type": "stream",
          "name": "stdout",
          "text": [
            "Epoch 1/100\n",
            "31/31 [==============================] - 5s 10ms/step - loss: 42.7573 - mae: 43.2551\n",
            "Epoch 2/100\n",
            "31/31 [==============================] - 0s 10ms/step - loss: 21.0996 - mae: 21.5955\n",
            "Epoch 3/100\n",
            "31/31 [==============================] - 0s 10ms/step - loss: 15.9080 - mae: 16.3975\n",
            "Epoch 4/100\n",
            "31/31 [==============================] - 0s 10ms/step - loss: 12.5601 - mae: 13.0515\n",
            "Epoch 5/100\n",
            "31/31 [==============================] - 0s 10ms/step - loss: 10.0465 - mae: 10.5306\n",
            "Epoch 6/100\n",
            "31/31 [==============================] - 0s 10ms/step - loss: 8.6304 - mae: 9.1149\n",
            "Epoch 7/100\n",
            "31/31 [==============================] - 0s 10ms/step - loss: 7.7105 - mae: 8.1901\n",
            "Epoch 8/100\n",
            "31/31 [==============================] - 0s 10ms/step - loss: 7.3452 - mae: 7.8268\n",
            "Epoch 9/100\n",
            "31/31 [==============================] - 0s 10ms/step - loss: 7.0538 - mae: 7.5311\n",
            "Epoch 10/100\n",
            "31/31 [==============================] - 0s 11ms/step - loss: 7.0070 - mae: 7.4875\n",
            "Epoch 11/100\n",
            "31/31 [==============================] - 0s 10ms/step - loss: 6.6702 - mae: 7.1469\n",
            "Epoch 12/100\n",
            "31/31 [==============================] - 0s 10ms/step - loss: 6.5610 - mae: 7.0375\n",
            "Epoch 13/100\n",
            "31/31 [==============================] - 0s 10ms/step - loss: 6.3958 - mae: 6.8725\n",
            "Epoch 14/100\n",
            "31/31 [==============================] - 1s 15ms/step - loss: 6.3511 - mae: 6.8313\n",
            "Epoch 15/100\n",
            "31/31 [==============================] - 1s 10ms/step - loss: 6.2065 - mae: 6.6876\n",
            "Epoch 16/100\n",
            "31/31 [==============================] - 1s 18ms/step - loss: 6.1984 - mae: 6.6792\n",
            "Epoch 17/100\n",
            "31/31 [==============================] - 1s 10ms/step - loss: 6.0405 - mae: 6.5222\n",
            "Epoch 18/100\n",
            "31/31 [==============================] - 1s 15ms/step - loss: 5.9956 - mae: 6.4733\n",
            "Epoch 19/100\n",
            "31/31 [==============================] - 1s 10ms/step - loss: 5.8987 - mae: 6.3790\n",
            "Epoch 20/100\n",
            "31/31 [==============================] - 0s 10ms/step - loss: 5.7910 - mae: 6.2742\n",
            "Epoch 21/100\n",
            "31/31 [==============================] - 0s 10ms/step - loss: 5.6688 - mae: 6.1472\n",
            "Epoch 22/100\n",
            "31/31 [==============================] - 0s 10ms/step - loss: 5.6311 - mae: 6.1090\n",
            "Epoch 23/100\n",
            "31/31 [==============================] - 0s 10ms/step - loss: 5.5821 - mae: 6.0611\n",
            "Epoch 24/100\n",
            "31/31 [==============================] - 0s 10ms/step - loss: 5.5986 - mae: 6.0785\n",
            "Epoch 25/100\n",
            "31/31 [==============================] - 0s 10ms/step - loss: 5.3999 - mae: 5.8754\n",
            "Epoch 26/100\n",
            "31/31 [==============================] - 0s 10ms/step - loss: 5.3738 - mae: 5.8544\n",
            "Epoch 27/100\n",
            "31/31 [==============================] - 0s 9ms/step - loss: 5.2961 - mae: 5.7733\n",
            "Epoch 28/100\n",
            "31/31 [==============================] - 0s 10ms/step - loss: 5.2625 - mae: 5.7389\n",
            "Epoch 29/100\n",
            "31/31 [==============================] - 0s 10ms/step - loss: 5.1677 - mae: 5.6451\n",
            "Epoch 30/100\n",
            "31/31 [==============================] - 0s 10ms/step - loss: 5.2092 - mae: 5.6825\n",
            "Epoch 31/100\n",
            "31/31 [==============================] - 0s 10ms/step - loss: 5.1991 - mae: 5.6769\n",
            "Epoch 32/100\n",
            "31/31 [==============================] - 0s 11ms/step - loss: 5.0933 - mae: 5.5655\n",
            "Epoch 33/100\n",
            "31/31 [==============================] - 0s 10ms/step - loss: 5.2192 - mae: 5.6961\n",
            "Epoch 34/100\n",
            "31/31 [==============================] - 0s 10ms/step - loss: 5.2345 - mae: 5.7112\n",
            "Epoch 35/100\n",
            "31/31 [==============================] - 0s 10ms/step - loss: 5.0622 - mae: 5.5427\n",
            "Epoch 36/100\n",
            "31/31 [==============================] - 0s 10ms/step - loss: 4.9991 - mae: 5.4773\n",
            "Epoch 37/100\n",
            "31/31 [==============================] - 0s 11ms/step - loss: 4.9531 - mae: 5.4304\n",
            "Epoch 38/100\n",
            "31/31 [==============================] - 0s 10ms/step - loss: 4.9633 - mae: 5.4414\n",
            "Epoch 39/100\n",
            "31/31 [==============================] - 0s 10ms/step - loss: 4.9602 - mae: 5.4380\n",
            "Epoch 40/100\n",
            "31/31 [==============================] - 0s 10ms/step - loss: 4.9197 - mae: 5.3987\n",
            "Epoch 41/100\n",
            "31/31 [==============================] - 0s 10ms/step - loss: 4.8882 - mae: 5.3648\n",
            "Epoch 42/100\n",
            "31/31 [==============================] - 0s 10ms/step - loss: 4.8819 - mae: 5.3587\n",
            "Epoch 43/100\n",
            "31/31 [==============================] - 0s 10ms/step - loss: 4.9628 - mae: 5.4403\n",
            "Epoch 44/100\n",
            "31/31 [==============================] - 0s 10ms/step - loss: 4.8817 - mae: 5.3590\n",
            "Epoch 45/100\n",
            "31/31 [==============================] - 0s 10ms/step - loss: 4.9929 - mae: 5.4706\n",
            "Epoch 46/100\n",
            "31/31 [==============================] - 0s 10ms/step - loss: 4.8759 - mae: 5.3503\n",
            "Epoch 47/100\n",
            "31/31 [==============================] - 0s 9ms/step - loss: 4.9378 - mae: 5.4131\n",
            "Epoch 48/100\n",
            "31/31 [==============================] - 0s 10ms/step - loss: 4.9754 - mae: 5.4527\n",
            "Epoch 49/100\n",
            "31/31 [==============================] - 0s 10ms/step - loss: 4.8771 - mae: 5.3536\n",
            "Epoch 50/100\n",
            "31/31 [==============================] - 0s 10ms/step - loss: 4.8198 - mae: 5.2988\n",
            "Epoch 51/100\n",
            "31/31 [==============================] - 0s 10ms/step - loss: 4.7622 - mae: 5.2425\n",
            "Epoch 52/100\n",
            "31/31 [==============================] - 0s 10ms/step - loss: 4.7388 - mae: 5.2151\n",
            "Epoch 53/100\n",
            "31/31 [==============================] - 0s 10ms/step - loss: 4.7164 - mae: 5.1934\n",
            "Epoch 54/100\n",
            "31/31 [==============================] - 0s 10ms/step - loss: 4.7329 - mae: 5.2098\n",
            "Epoch 55/100\n",
            "31/31 [==============================] - 0s 10ms/step - loss: 4.7230 - mae: 5.2024\n",
            "Epoch 56/100\n",
            "31/31 [==============================] - 0s 10ms/step - loss: 4.7029 - mae: 5.1778\n",
            "Epoch 57/100\n",
            "31/31 [==============================] - 0s 10ms/step - loss: 4.6745 - mae: 5.1472\n",
            "Epoch 58/100\n",
            "31/31 [==============================] - 0s 10ms/step - loss: 4.7241 - mae: 5.2019\n",
            "Epoch 59/100\n",
            "31/31 [==============================] - 0s 10ms/step - loss: 4.6985 - mae: 5.1709\n",
            "Epoch 60/100\n",
            "31/31 [==============================] - 0s 10ms/step - loss: 4.7014 - mae: 5.1762\n",
            "Epoch 61/100\n",
            "31/31 [==============================] - 0s 10ms/step - loss: 4.6783 - mae: 5.1547\n",
            "Epoch 62/100\n",
            "31/31 [==============================] - 0s 10ms/step - loss: 4.6817 - mae: 5.1586\n",
            "Epoch 63/100\n",
            "31/31 [==============================] - 0s 9ms/step - loss: 4.7233 - mae: 5.1995\n",
            "Epoch 64/100\n",
            "31/31 [==============================] - 0s 10ms/step - loss: 4.6994 - mae: 5.1745\n",
            "Epoch 65/100\n",
            "31/31 [==============================] - 0s 10ms/step - loss: 4.6299 - mae: 5.1065\n",
            "Epoch 66/100\n",
            "31/31 [==============================] - 0s 10ms/step - loss: 4.6688 - mae: 5.1436\n",
            "Epoch 67/100\n",
            "31/31 [==============================] - 0s 10ms/step - loss: 4.5956 - mae: 5.0699\n",
            "Epoch 68/100\n",
            "31/31 [==============================] - 0s 10ms/step - loss: 4.6036 - mae: 5.0763\n",
            "Epoch 69/100\n",
            "31/31 [==============================] - 0s 10ms/step - loss: 4.8724 - mae: 5.3500\n",
            "Epoch 70/100\n",
            "31/31 [==============================] - 0s 10ms/step - loss: 4.8459 - mae: 5.3250\n",
            "Epoch 71/100\n",
            "31/31 [==============================] - 0s 10ms/step - loss: 4.5956 - mae: 5.0726\n",
            "Epoch 72/100\n",
            "31/31 [==============================] - 0s 10ms/step - loss: 4.6552 - mae: 5.1340\n",
            "Epoch 73/100\n",
            "31/31 [==============================] - 0s 10ms/step - loss: 4.5819 - mae: 5.0548\n",
            "Epoch 74/100\n",
            "31/31 [==============================] - 0s 10ms/step - loss: 4.6401 - mae: 5.1188\n",
            "Epoch 75/100\n",
            "31/31 [==============================] - 0s 10ms/step - loss: 4.5786 - mae: 5.0565\n",
            "Epoch 76/100\n",
            "31/31 [==============================] - 0s 10ms/step - loss: 4.5608 - mae: 5.0362\n",
            "Epoch 77/100\n",
            "31/31 [==============================] - 0s 11ms/step - loss: 4.5447 - mae: 5.0199\n",
            "Epoch 78/100\n",
            "31/31 [==============================] - 0s 11ms/step - loss: 4.6071 - mae: 5.0850\n",
            "Epoch 79/100\n",
            "31/31 [==============================] - 0s 10ms/step - loss: 4.5482 - mae: 5.0208\n",
            "Epoch 80/100\n",
            "31/31 [==============================] - 0s 10ms/step - loss: 4.5638 - mae: 5.0378\n",
            "Epoch 81/100\n",
            "31/31 [==============================] - 0s 10ms/step - loss: 4.5330 - mae: 5.0065\n",
            "Epoch 82/100\n",
            "31/31 [==============================] - 0s 10ms/step - loss: 4.5114 - mae: 4.9851\n",
            "Epoch 83/100\n",
            "31/31 [==============================] - 0s 11ms/step - loss: 4.5303 - mae: 5.0023\n",
            "Epoch 84/100\n",
            "31/31 [==============================] - 0s 10ms/step - loss: 4.5390 - mae: 5.0161\n",
            "Epoch 85/100\n",
            "31/31 [==============================] - 0s 10ms/step - loss: 4.6270 - mae: 5.0999\n",
            "Epoch 86/100\n",
            "31/31 [==============================] - 0s 10ms/step - loss: 4.5802 - mae: 5.0525\n",
            "Epoch 87/100\n",
            "31/31 [==============================] - 0s 10ms/step - loss: 4.6424 - mae: 5.1148\n",
            "Epoch 88/100\n",
            "31/31 [==============================] - 0s 10ms/step - loss: 4.5177 - mae: 4.9943\n",
            "Epoch 89/100\n",
            "31/31 [==============================] - 0s 10ms/step - loss: 4.5948 - mae: 5.0703\n",
            "Epoch 90/100\n",
            "31/31 [==============================] - 0s 10ms/step - loss: 4.5234 - mae: 4.9996\n",
            "Epoch 91/100\n",
            "31/31 [==============================] - 0s 10ms/step - loss: 4.5799 - mae: 5.0517\n",
            "Epoch 92/100\n",
            "31/31 [==============================] - 0s 10ms/step - loss: 4.5501 - mae: 5.0266\n",
            "Epoch 93/100\n",
            "31/31 [==============================] - 0s 10ms/step - loss: 4.6304 - mae: 5.1074\n",
            "Epoch 94/100\n",
            "31/31 [==============================] - 0s 10ms/step - loss: 4.4615 - mae: 4.9331\n",
            "Epoch 95/100\n",
            "31/31 [==============================] - 0s 10ms/step - loss: 4.6156 - mae: 5.0851\n",
            "Epoch 96/100\n",
            "31/31 [==============================] - 0s 10ms/step - loss: 4.5278 - mae: 4.9964\n",
            "Epoch 97/100\n",
            "31/31 [==============================] - 0s 10ms/step - loss: 4.5388 - mae: 5.0101\n",
            "Epoch 98/100\n",
            "31/31 [==============================] - 0s 10ms/step - loss: 4.5493 - mae: 5.0219\n",
            "Epoch 99/100\n",
            "31/31 [==============================] - 0s 10ms/step - loss: 4.6192 - mae: 5.0937\n",
            "Epoch 100/100\n",
            "31/31 [==============================] - 0s 10ms/step - loss: 4.5247 - mae: 5.0021\n"
          ]
        }
      ],
      "source": [
        "# Reset states generated by Keras\n",
        "tf.keras.backend.clear_session()\n",
        "\n",
        "# Build the model\n",
        "model = tf.keras.models.Sequential([\n",
        "  tf.keras.layers.Lambda(lambda x: tf.expand_dims(x, axis=-1),\n",
        "                      input_shape=[None]),\n",
        "   tf.keras.layers.Bidirectional(tf.keras.layers.LSTM(32, return_sequences=True)),\n",
        "  tf.keras.layers.Bidirectional(tf.keras.layers.LSTM(32)),\n",
        "  tf.keras.layers.Dense(1),\n",
        "  tf.keras.layers.Lambda(lambda x: x * 100.0)\n",
        "])\n",
        "\n",
        "# Set the learning rate\n",
        "learning_rate = 2e-6\n",
        "\n",
        "# Set the optimizer \n",
        "optimizer = tf.keras.optimizers.SGD(learning_rate=learning_rate, momentum=0.9)\n",
        "\n",
        "# Set the training parameters\n",
        "model.compile(loss=tf.keras.losses.Huber(),\n",
        "              optimizer=optimizer,\n",
        "              metrics=[\"mae\"])\n",
        "\n",
        "# Train the model\n",
        "history = model.fit(dataset,epochs=100)"
      ]
    },
    {
      "cell_type": "markdown",
      "metadata": {
        "id": "RjP4kbGiI7cw"
      },
      "source": [
        "## Model Prediction\n",
        "\n",
        "You will then generate batches of windows to generate predictions that align with the validation set."
      ]
    },
    {
      "cell_type": "code",
      "execution_count": 12,
      "metadata": {
        "id": "QO8cfKwKBBG6"
      },
      "outputs": [],
      "source": [
        "def model_forecast(model, series, window_size, batch_size):\n",
        "    \"\"\"Uses an input model to generate predictions on data windows\n",
        "\n",
        "    Args:\n",
        "      model (TF Keras Model) - model that accepts data windows\n",
        "      series (array of float) - contains the values of the time series\n",
        "      window_size (int) - the number of time steps to include in the window\n",
        "      batch_size (int) - the batch size\n",
        "\n",
        "    Returns:\n",
        "      forecast (numpy array) - array containing predictions\n",
        "    \"\"\"\n",
        "\n",
        "    # Generate a TF Dataset from the series values\n",
        "    dataset = tf.data.Dataset.from_tensor_slices(series)\n",
        "\n",
        "    # Window the data but only take those with the specified size\n",
        "    dataset = dataset.window(window_size, shift=1, drop_remainder=True)\n",
        "\n",
        "    # Flatten the windows by putting its elements in a single batch\n",
        "    dataset = dataset.flat_map(lambda w: w.batch(window_size))\n",
        "    \n",
        "    # Create batches of windows\n",
        "    dataset = dataset.batch(batch_size).prefetch(1)\n",
        "    \n",
        "    # Get predictions on the entire dataset\n",
        "    forecast = model.predict(dataset)\n",
        "    \n",
        "    return forecast"
      ]
    },
    {
      "cell_type": "code",
      "execution_count": 13,
      "metadata": {
        "id": "_plB3UseBD8o",
        "colab": {
          "base_uri": "https://localhost:8080/",
          "height": 405
        },
        "outputId": "5517d7d5-0ac2-4f5d-93ae-1bce6afc63da"
      },
      "outputs": [
        {
          "output_type": "stream",
          "name": "stdout",
          "text": [
            "15/15 [==============================] - 1s 9ms/step\n"
          ]
        },
        {
          "output_type": "display_data",
          "data": {
            "text/plain": [
              "<Figure size 720x432 with 1 Axes>"
            ],
            "image/png": "[encoded data removed]"
          },
          "metadata": {
            "needs_background": "light"
          }
        }
      ],
      "source": [
        "# Reduce the original series\n",
        "forecast_series = series[split_time-window_size:-1]\n",
        "\n",
        "# Use helper function to generate predictions\n",
        "forecast = model_forecast(model, forecast_series, window_size, batch_size)\n",
        "\n",
        "# Drop single dimensional axis\n",
        "results = forecast.squeeze()\n",
        "\n",
        "# Plot the results\n",
        "plot_series(time_valid, (x_valid, results))"
      ]
    },
    {
      "cell_type": "markdown",
      "metadata": {
        "id": "Nn8iSQkZtaRC"
      },
      "source": [
        "You can then generate the metrics to evaluate the model's performance."
      ]
    },
    {
      "cell_type": "code",
      "execution_count": 14,
      "metadata": {
        "id": "-IKhueZaBGID",
        "colab": {
          "base_uri": "https://localhost:8080/"
        },
        "outputId": "9b877224-9212-42f2-91bc-2d414f080a6b"
      },
      "outputs": [
        {
          "output_type": "stream",
          "name": "stdout",
          "text": [
            "65.560715\n",
            "5.709841\n"
          ]
        }
      ],
      "source": [
        "# Compute the MSE and MAE\n",
        "print(tf.keras.metrics.mean_squared_error(x_valid, results).numpy())\n",
        "print(tf.keras.metrics.mean_absolute_error(x_valid, results).numpy())"
      ]
    },
    {
      "cell_type": "markdown",
      "metadata": {
        "id": "bzPIqeMWvbPy"
      },
      "source": [
        "## Wrap Up\n",
        "\n",
        "This concludes this short exercise on using LSTMs for time series forecasting. Next week, you will build upon this and add convolutions. Then, you will start to move away from synthetic data and use real-world datasets. See you there!"
      ]
    },
    {
      "cell_type": "markdown",
      "metadata": {
        "id": "U5PqTePGHeMH"
      },
      "source": [
        "## Optional: Including a Validation Set while Training\n",
        "\n",
        "Back in the first course of this specialization, you saw how you can also monitor the performance of your model against a validation set while training. You can also do that for this lab. \n",
        "\n",
        "First, you need to generate a `val_set` which are data windows and labels that your model can accept. You can simply reuse the `windowed_dataset` function for that and you can pass in the `x_valid` points to generate the windows."
      ]
    },
    {
      "cell_type": "code",
      "execution_count": 15,
      "metadata": {
        "id": "kvFVwL3PC4iX"
      },
      "outputs": [],
      "source": [
        "# Generate data windows of the validation set\n",
        "val_set = windowed_dataset(x_valid, window_size, batch_size, shuffle_buffer_size)"
      ]
    },
    {
      "cell_type": "markdown",
      "metadata": {
        "id": "p68j6XxEvP9K"
      },
      "source": [
        "You can then do the same training as before but pass in the `val_set` to the `validation_data` parameter of the `fit()` method."
      ]
    },
    {
      "cell_type": "code",
      "execution_count": 16,
      "metadata": {
        "id": "wujKz6tXDSn0",
        "colab": {
          "base_uri": "https://localhost:8080/"
        },
        "outputId": "2cc11c18-b729-4fc4-d268-82a93826d7f1"
      },
      "outputs": [
        {
          "output_type": "stream",
          "name": "stdout",
          "text": [
            "Epoch 1/100\n",
            "31/31 [==============================] - 7s 58ms/step - loss: 22.7917 - mae: 23.2885 - val_loss: 21.4044 - val_mae: 21.9013\n",
            "Epoch 2/100\n",
            "31/31 [==============================] - 1s 14ms/step - loss: 10.7203 - mae: 11.2141 - val_loss: 21.2111 - val_mae: 21.7081\n",
            "Epoch 3/100\n",
            "31/31 [==============================] - 1s 14ms/step - loss: 8.8401 - mae: 9.3262 - val_loss: 16.0660 - val_mae: 16.5625\n",
            "Epoch 4/100\n",
            "31/31 [==============================] - 1s 14ms/step - loss: 7.9443 - mae: 8.4281 - val_loss: 14.3992 - val_mae: 14.8924\n",
            "Epoch 5/100\n",
            "31/31 [==============================] - 1s 14ms/step - loss: 7.6243 - mae: 8.1057 - val_loss: 13.7273 - val_mae: 14.2208\n",
            "Epoch 6/100\n",
            "31/31 [==============================] - 1s 13ms/step - loss: 7.4060 - mae: 7.8900 - val_loss: 11.4568 - val_mae: 11.9461\n",
            "Epoch 7/100\n",
            "31/31 [==============================] - 1s 14ms/step - loss: 7.1686 - mae: 7.6537 - val_loss: 11.4462 - val_mae: 11.9391\n",
            "Epoch 8/100\n",
            "31/31 [==============================] - 1s 14ms/step - loss: 6.9724 - mae: 7.4546 - val_loss: 9.8748 - val_mae: 10.3644\n",
            "Epoch 9/100\n",
            "31/31 [==============================] - 1s 14ms/step - loss: 6.7453 - mae: 7.2266 - val_loss: 8.5531 - val_mae: 9.0393\n",
            "Epoch 10/100\n",
            "31/31 [==============================] - 1s 14ms/step - loss: 6.7619 - mae: 7.2450 - val_loss: 8.7702 - val_mae: 9.2546\n",
            "Epoch 11/100\n",
            "31/31 [==============================] - 1s 14ms/step - loss: 6.4918 - mae: 6.9723 - val_loss: 9.4330 - val_mae: 9.9255\n",
            "Epoch 12/100\n",
            "31/31 [==============================] - 1s 14ms/step - loss: 6.4147 - mae: 6.8951 - val_loss: 7.8578 - val_mae: 8.3458\n",
            "Epoch 13/100\n",
            "31/31 [==============================] - 0s 13ms/step - loss: 6.4300 - mae: 6.9131 - val_loss: 7.5928 - val_mae: 8.0771\n",
            "Epoch 14/100\n",
            "31/31 [==============================] - 0s 13ms/step - loss: 6.2366 - mae: 6.7168 - val_loss: 9.0218 - val_mae: 9.5111\n",
            "Epoch 15/100\n",
            "31/31 [==============================] - 1s 14ms/step - loss: 6.2466 - mae: 6.7295 - val_loss: 7.6903 - val_mae: 8.1769\n",
            "Epoch 16/100\n",
            "31/31 [==============================] - 0s 13ms/step - loss: 6.1681 - mae: 6.6506 - val_loss: 8.5870 - val_mae: 9.0767\n",
            "Epoch 17/100\n",
            "31/31 [==============================] - 1s 13ms/step - loss: 6.0955 - mae: 6.5779 - val_loss: 7.2891 - val_mae: 7.7718\n",
            "Epoch 18/100\n",
            "31/31 [==============================] - 1s 14ms/step - loss: 6.0098 - mae: 6.4893 - val_loss: 7.1277 - val_mae: 7.6120\n",
            "Epoch 19/100\n",
            "31/31 [==============================] - 1s 13ms/step - loss: 6.0356 - mae: 6.5171 - val_loss: 8.2737 - val_mae: 8.7627\n",
            "Epoch 20/100\n",
            "31/31 [==============================] - 0s 13ms/step - loss: 5.8719 - mae: 6.3506 - val_loss: 8.2000 - val_mae: 8.6883\n",
            "Epoch 21/100\n",
            "31/31 [==============================] - 1s 13ms/step - loss: 5.8067 - mae: 6.2861 - val_loss: 7.4988 - val_mae: 7.9839\n",
            "Epoch 22/100\n",
            "31/31 [==============================] - 0s 13ms/step - loss: 5.7347 - mae: 6.2137 - val_loss: 6.8733 - val_mae: 7.3543\n",
            "Epoch 23/100\n",
            "31/31 [==============================] - 1s 14ms/step - loss: 5.7158 - mae: 6.1951 - val_loss: 7.0243 - val_mae: 7.5092\n",
            "Epoch 24/100\n",
            "31/31 [==============================] - 0s 13ms/step - loss: 5.5889 - mae: 6.0693 - val_loss: 7.7981 - val_mae: 8.2832\n",
            "Epoch 25/100\n",
            "31/31 [==============================] - 1s 13ms/step - loss: 5.7539 - mae: 6.2322 - val_loss: 7.2054 - val_mae: 7.6870\n",
            "Epoch 26/100\n",
            "31/31 [==============================] - 0s 13ms/step - loss: 5.6785 - mae: 6.1559 - val_loss: 6.7286 - val_mae: 7.2109\n",
            "Epoch 27/100\n",
            "31/31 [==============================] - 1s 13ms/step - loss: 5.5307 - mae: 6.0062 - val_loss: 6.7073 - val_mae: 7.1906\n",
            "Epoch 28/100\n",
            "31/31 [==============================] - 0s 13ms/step - loss: 5.4693 - mae: 5.9455 - val_loss: 7.3158 - val_mae: 7.7991\n",
            "Epoch 29/100\n",
            "31/31 [==============================] - 1s 14ms/step - loss: 5.4183 - mae: 5.8998 - val_loss: 7.1392 - val_mae: 7.6198\n",
            "Epoch 30/100\n",
            "31/31 [==============================] - 1s 14ms/step - loss: 5.4021 - mae: 5.8815 - val_loss: 7.0640 - val_mae: 7.5443\n",
            "Epoch 31/100\n",
            "31/31 [==============================] - 1s 13ms/step - loss: 5.3080 - mae: 5.7884 - val_loss: 6.9207 - val_mae: 7.4010\n",
            "Epoch 32/100\n",
            "31/31 [==============================] - 1s 20ms/step - loss: 5.2753 - mae: 5.7522 - val_loss: 6.6427 - val_mae: 7.1236\n",
            "Epoch 33/100\n",
            "31/31 [==============================] - 1s 19ms/step - loss: 5.2165 - mae: 5.6969 - val_loss: 6.3538 - val_mae: 6.8398\n",
            "Epoch 34/100\n",
            "31/31 [==============================] - 1s 14ms/step - loss: 5.2209 - mae: 5.6946 - val_loss: 7.5027 - val_mae: 7.9877\n",
            "Epoch 35/100\n",
            "31/31 [==============================] - 1s 14ms/step - loss: 5.1947 - mae: 5.6708 - val_loss: 6.6334 - val_mae: 7.1133\n",
            "Epoch 36/100\n",
            "31/31 [==============================] - 1s 14ms/step - loss: 5.1434 - mae: 5.6211 - val_loss: 6.8015 - val_mae: 7.2787\n",
            "Epoch 37/100\n",
            "31/31 [==============================] - 1s 14ms/step - loss: 5.1090 - mae: 5.5835 - val_loss: 6.3982 - val_mae: 6.8866\n",
            "Epoch 38/100\n",
            "31/31 [==============================] - 1s 14ms/step - loss: 5.1217 - mae: 5.6010 - val_loss: 6.2011 - val_mae: 6.6827\n",
            "Epoch 39/100\n",
            "31/31 [==============================] - 0s 13ms/step - loss: 5.1193 - mae: 5.5913 - val_loss: 6.7860 - val_mae: 7.2632\n",
            "Epoch 40/100\n",
            "31/31 [==============================] - 1s 13ms/step - loss: 5.0856 - mae: 5.5604 - val_loss: 7.5143 - val_mae: 7.9964\n",
            "Epoch 41/100\n",
            "31/31 [==============================] - 1s 13ms/step - loss: 5.1000 - mae: 5.5803 - val_loss: 7.1169 - val_mae: 7.6016\n",
            "Epoch 42/100\n",
            "31/31 [==============================] - 1s 14ms/step - loss: 5.0601 - mae: 5.5372 - val_loss: 6.9132 - val_mae: 7.3966\n",
            "Epoch 43/100\n",
            "31/31 [==============================] - 0s 13ms/step - loss: 4.9850 - mae: 5.4595 - val_loss: 6.5911 - val_mae: 7.0686\n",
            "Epoch 44/100\n",
            "31/31 [==============================] - 1s 14ms/step - loss: 5.0000 - mae: 5.4748 - val_loss: 6.4271 - val_mae: 6.9088\n",
            "Epoch 45/100\n",
            "31/31 [==============================] - 0s 13ms/step - loss: 4.9653 - mae: 5.4415 - val_loss: 6.2790 - val_mae: 6.7665\n",
            "Epoch 46/100\n",
            "31/31 [==============================] - 1s 14ms/step - loss: 4.9777 - mae: 5.4542 - val_loss: 6.8923 - val_mae: 7.3736\n",
            "Epoch 47/100\n",
            "31/31 [==============================] - 1s 14ms/step - loss: 4.9816 - mae: 5.4550 - val_loss: 6.5102 - val_mae: 6.9900\n",
            "Epoch 48/100\n",
            "31/31 [==============================] - 1s 14ms/step - loss: 5.0082 - mae: 5.4829 - val_loss: 6.1042 - val_mae: 6.5875\n",
            "Epoch 49/100\n",
            "31/31 [==============================] - 1s 13ms/step - loss: 4.9388 - mae: 5.4130 - val_loss: 6.5199 - val_mae: 6.9977\n",
            "Epoch 50/100\n",
            "31/31 [==============================] - 0s 14ms/step - loss: 4.8638 - mae: 5.3382 - val_loss: 6.3782 - val_mae: 6.8575\n",
            "Epoch 51/100\n",
            "31/31 [==============================] - 0s 13ms/step - loss: 4.8527 - mae: 5.3289 - val_loss: 6.3296 - val_mae: 6.8095\n",
            "Epoch 52/100\n",
            "31/31 [==============================] - 1s 14ms/step - loss: 4.8692 - mae: 5.3438 - val_loss: 6.0563 - val_mae: 6.5449\n",
            "Epoch 53/100\n",
            "31/31 [==============================] - 0s 13ms/step - loss: 4.8105 - mae: 5.2814 - val_loss: 6.5778 - val_mae: 7.0555\n",
            "Epoch 54/100\n",
            "31/31 [==============================] - 1s 14ms/step - loss: 4.8169 - mae: 5.2932 - val_loss: 6.1885 - val_mae: 6.6705\n",
            "Epoch 55/100\n",
            "31/31 [==============================] - 0s 13ms/step - loss: 4.7894 - mae: 5.2636 - val_loss: 6.1658 - val_mae: 6.6485\n",
            "Epoch 56/100\n",
            "31/31 [==============================] - 1s 14ms/step - loss: 4.8794 - mae: 5.3554 - val_loss: 5.7991 - val_mae: 6.2732\n",
            "Epoch 57/100\n",
            "31/31 [==============================] - 0s 13ms/step - loss: 4.8794 - mae: 5.3547 - val_loss: 6.0810 - val_mae: 6.5685\n",
            "Epoch 58/100\n",
            "31/31 [==============================] - 1s 14ms/step - loss: 4.7953 - mae: 5.2726 - val_loss: 7.0256 - val_mae: 7.5057\n",
            "Epoch 59/100\n",
            "31/31 [==============================] - 0s 13ms/step - loss: 4.7810 - mae: 5.2590 - val_loss: 6.6489 - val_mae: 7.1297\n",
            "Epoch 60/100\n",
            "31/31 [==============================] - 1s 14ms/step - loss: 4.7719 - mae: 5.2516 - val_loss: 6.1520 - val_mae: 6.6343\n",
            "Epoch 61/100\n",
            "31/31 [==============================] - 1s 14ms/step - loss: 4.8231 - mae: 5.2984 - val_loss: 6.7138 - val_mae: 7.1935\n",
            "Epoch 62/100\n",
            "31/31 [==============================] - 1s 13ms/step - loss: 4.8195 - mae: 5.2934 - val_loss: 7.4584 - val_mae: 7.9460\n",
            "Epoch 63/100\n",
            "31/31 [==============================] - 1s 14ms/step - loss: 4.7542 - mae: 5.2313 - val_loss: 7.6308 - val_mae: 8.1208\n",
            "Epoch 64/100\n",
            "31/31 [==============================] - 0s 13ms/step - loss: 4.7690 - mae: 5.2453 - val_loss: 6.1099 - val_mae: 6.5929\n",
            "Epoch 65/100\n",
            "31/31 [==============================] - 0s 13ms/step - loss: 4.6987 - mae: 5.1754 - val_loss: 6.0476 - val_mae: 6.5309\n",
            "Epoch 66/100\n",
            "31/31 [==============================] - 0s 14ms/step - loss: 4.6762 - mae: 5.1552 - val_loss: 5.8317 - val_mae: 6.3184\n",
            "Epoch 67/100\n",
            "31/31 [==============================] - 1s 14ms/step - loss: 4.7855 - mae: 5.2645 - val_loss: 6.3049 - val_mae: 6.7831\n",
            "Epoch 68/100\n",
            "31/31 [==============================] - 1s 14ms/step - loss: 4.6627 - mae: 5.1349 - val_loss: 5.7101 - val_mae: 6.1924\n",
            "Epoch 69/100\n",
            "31/31 [==============================] - 0s 13ms/step - loss: 4.7029 - mae: 5.1817 - val_loss: 7.0185 - val_mae: 7.5012\n",
            "Epoch 70/100\n",
            "31/31 [==============================] - 1s 14ms/step - loss: 4.6379 - mae: 5.1153 - val_loss: 6.0181 - val_mae: 6.5017\n",
            "Epoch 71/100\n",
            "31/31 [==============================] - 1s 14ms/step - loss: 4.6575 - mae: 5.1349 - val_loss: 6.0346 - val_mae: 6.5187\n",
            "Epoch 72/100\n",
            "31/31 [==============================] - 0s 13ms/step - loss: 4.6465 - mae: 5.1219 - val_loss: 5.9571 - val_mae: 6.4420\n",
            "Epoch 73/100\n",
            "31/31 [==============================] - 1s 14ms/step - loss: 4.6773 - mae: 5.1585 - val_loss: 6.0639 - val_mae: 6.5448\n",
            "Epoch 74/100\n",
            "31/31 [==============================] - 1s 13ms/step - loss: 4.7014 - mae: 5.1804 - val_loss: 6.7150 - val_mae: 7.1980\n",
            "Epoch 75/100\n",
            "31/31 [==============================] - 1s 14ms/step - loss: 4.7389 - mae: 5.2173 - val_loss: 6.3718 - val_mae: 6.8493\n",
            "Epoch 76/100\n",
            "31/31 [==============================] - 1s 13ms/step - loss: 4.6193 - mae: 5.1006 - val_loss: 5.5142 - val_mae: 5.9911\n",
            "Epoch 77/100\n",
            "31/31 [==============================] - 1s 14ms/step - loss: 4.6981 - mae: 5.1751 - val_loss: 5.4917 - val_mae: 5.9720\n",
            "Epoch 78/100\n",
            "31/31 [==============================] - 0s 13ms/step - loss: 4.6480 - mae: 5.1272 - val_loss: 5.4707 - val_mae: 5.9487\n",
            "Epoch 79/100\n",
            "31/31 [==============================] - 0s 13ms/step - loss: 4.6681 - mae: 5.1423 - val_loss: 6.2795 - val_mae: 6.7558\n",
            "Epoch 80/100\n",
            "31/31 [==============================] - 1s 14ms/step - loss: 4.6944 - mae: 5.1722 - val_loss: 6.9631 - val_mae: 7.4456\n",
            "Epoch 81/100\n",
            "31/31 [==============================] - 1s 14ms/step - loss: 4.5710 - mae: 5.0474 - val_loss: 5.6859 - val_mae: 6.1709\n",
            "Epoch 82/100\n",
            "31/31 [==============================] - 1s 14ms/step - loss: 4.6190 - mae: 5.0989 - val_loss: 5.6362 - val_mae: 6.1177\n",
            "Epoch 83/100\n",
            "31/31 [==============================] - 1s 14ms/step - loss: 4.7140 - mae: 5.1924 - val_loss: 5.4912 - val_mae: 5.9675\n",
            "Epoch 84/100\n",
            "31/31 [==============================] - 1s 14ms/step - loss: 4.6073 - mae: 5.0798 - val_loss: 5.6250 - val_mae: 6.1072\n",
            "Epoch 85/100\n",
            "31/31 [==============================] - 0s 13ms/step - loss: 4.5515 - mae: 5.0297 - val_loss: 6.2822 - val_mae: 6.7579\n",
            "Epoch 86/100\n",
            "31/31 [==============================] - 0s 13ms/step - loss: 4.5410 - mae: 5.0195 - val_loss: 5.7724 - val_mae: 6.2570\n",
            "Epoch 87/100\n",
            "31/31 [==============================] - 1s 14ms/step - loss: 4.5598 - mae: 5.0388 - val_loss: 5.6163 - val_mae: 6.1008\n",
            "Epoch 88/100\n",
            "31/31 [==============================] - 1s 14ms/step - loss: 4.5633 - mae: 5.0428 - val_loss: 5.5825 - val_mae: 6.0666\n",
            "Epoch 89/100\n",
            "31/31 [==============================] - 1s 13ms/step - loss: 4.5787 - mae: 5.0576 - val_loss: 5.7634 - val_mae: 6.2480\n",
            "Epoch 90/100\n",
            "31/31 [==============================] - 1s 14ms/step - loss: 4.5543 - mae: 5.0281 - val_loss: 6.0306 - val_mae: 6.5084\n",
            "Epoch 91/100\n",
            "31/31 [==============================] - 0s 13ms/step - loss: 4.5735 - mae: 5.0535 - val_loss: 5.8995 - val_mae: 6.3780\n",
            "Epoch 92/100\n",
            "31/31 [==============================] - 1s 14ms/step - loss: 4.5642 - mae: 5.0424 - val_loss: 6.1335 - val_mae: 6.6105\n",
            "Epoch 93/100\n",
            "31/31 [==============================] - 1s 14ms/step - loss: 4.5903 - mae: 5.0634 - val_loss: 6.5480 - val_mae: 7.0291\n",
            "Epoch 94/100\n",
            "31/31 [==============================] - 1s 14ms/step - loss: 4.5731 - mae: 5.0497 - val_loss: 5.4659 - val_mae: 5.9472\n",
            "Epoch 95/100\n",
            "31/31 [==============================] - 0s 13ms/step - loss: 4.5843 - mae: 5.0575 - val_loss: 5.4805 - val_mae: 5.9638\n",
            "Epoch 96/100\n",
            "31/31 [==============================] - 1s 14ms/step - loss: 4.5302 - mae: 5.0078 - val_loss: 5.3312 - val_mae: 5.8084\n",
            "Epoch 97/100\n",
            "31/31 [==============================] - 0s 13ms/step - loss: 4.5443 - mae: 5.0242 - val_loss: 5.6995 - val_mae: 6.1807\n",
            "Epoch 98/100\n",
            "31/31 [==============================] - 1s 14ms/step - loss: 4.5968 - mae: 5.0778 - val_loss: 6.6828 - val_mae: 7.1639\n",
            "Epoch 99/100\n",
            "31/31 [==============================] - 1s 14ms/step - loss: 4.5429 - mae: 5.0220 - val_loss: 6.1264 - val_mae: 6.6044\n",
            "Epoch 100/100\n",
            "31/31 [==============================] - 0s 13ms/step - loss: 4.5379 - mae: 5.0147 - val_loss: 5.6151 - val_mae: 6.0988\n"
          ]
        }
      ],
      "source": [
        "# Reset states generated by Keras\n",
        "tf.keras.backend.clear_session()\n",
        "\n",
        "# Build the model\n",
        "model = tf.keras.models.Sequential([\n",
        "  tf.keras.layers.Lambda(lambda x: tf.expand_dims(x, axis=-1),\n",
        "                      input_shape=[None]),\n",
        "   tf.keras.layers.Bidirectional(tf.keras.layers.LSTM(32, return_sequences=True)),\n",
        "  tf.keras.layers.Bidirectional(tf.keras.layers.LSTM(32)),\n",
        "  tf.keras.layers.Dense(1),\n",
        "  tf.keras.layers.Lambda(lambda x: x * 100.0)\n",
        "])\n",
        "\n",
        "# Set the learning rate\n",
        "learning_rate = 2e-6\n",
        "\n",
        "# Set the optimizer \n",
        "optimizer = tf.keras.optimizers.SGD(learning_rate=learning_rate, momentum=0.9)\n",
        "\n",
        "# Set the training parameters\n",
        "model.compile(loss=tf.keras.losses.Huber(),\n",
        "              optimizer=optimizer,\n",
        "              metrics=[\"mae\"])\n",
        "\n",
        "# Train the model\n",
        "history = model.fit(dataset,epochs=100, validation_data=val_set)"
      ]
    }
  ],
  "metadata": {
    "accelerator": "GPU",
    "colab": {
      "collapsed_sections": [],
      "provenance": []
    },
    "kernelspec": {
      "display_name": "Python 3",
      "language": "python",
      "name": "python3"
    },
    "language_info": {
      "codemirror_mode": {
        "name": "ipython",
        "version": 3
      },
      "file_extension": ".py",
      "mimetype": "text/x-python",
      "name": "python",
      "nbconvert_exporter": "python",
      "pygments_lexer": "ipython3",
      "version": "3.7.4"
    },
    "gpuClass": "standard"
  },
  "nbformat": 4,
  "nbformat_minor": 0
}